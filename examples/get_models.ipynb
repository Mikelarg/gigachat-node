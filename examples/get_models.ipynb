{
 "cells": [
  {
   "cell_type": "markdown",
   "metadata": {},
   "source": [
    "# Получение списка доступных моделей\n",
    "Source: [get_models.ts](source/get_models.ts)"
   ]
  },
  {
   "cell_type": "code",
   "execution_count": null,
   "metadata": {},
   "outputs": [],
   "source": [
    "import GigaChat from 'gigachat';\n",
    "import * as dotenv from 'dotenv';\n",
    "import { Agent } from 'node:https';\n",
    "\n",
    "const httpsAgent = new Agent({\n",
    "    rejectUnauthorized: false,\n",
    "});\n",
    "\n",
    "dotenv.config();\n",
    "\n",
    "const client = new GigaChat({\n",
    "    timeout: 600,\n",
    "    model: 'GigaChat',\n",
    "    httpsAgent: httpsAgent,\n",
    "});\n"
   ]
  },
  {
   "cell_type": "code",
   "execution_count": 4,
   "metadata": {},
   "outputs": [
    {
     "data": {
      "text/plain": [
       "{\n",
       "  object: \u001b[32m\"list\"\u001b[39m,\n",
       "  data: [\n",
       "    {\n",
       "      id: \u001b[32m\"GigaChat\"\u001b[39m,\n",
       "      object: \u001b[32m\"model\"\u001b[39m,\n",
       "      owned_by: \u001b[32m\"salutedevices\"\u001b[39m,\n",
       "      type: \u001b[32m\"chat\"\u001b[39m\n",
       "    },\n",
       "    {\n",
       "      id: \u001b[32m\"GigaChat-Max\"\u001b[39m,\n",
       "      object: \u001b[32m\"model\"\u001b[39m,\n",
       "      owned_by: \u001b[32m\"salutedevices\"\u001b[39m,\n",
       "      type: \u001b[32m\"chat\"\u001b[39m\n",
       "    },\n",
       "    {\n",
       "      id: \u001b[32m\"GigaChat-Pro\"\u001b[39m,\n",
       "      object: \u001b[32m\"model\"\u001b[39m,\n",
       "      owned_by: \u001b[32m\"salutedevices\"\u001b[39m,\n",
       "      type: \u001b[32m\"chat\"\u001b[39m\n",
       "    }\n",
       "  ],\n",
       "  xHeaders: {\n",
       "    xRequestID: \u001b[32m\"092015b9-7775-43fb-bce9-908aec1843d1\"\u001b[39m,\n",
       "    xSessionID: \u001b[32m\"5a9af163-43f0-4262-a4ea-08be07bcac2e\"\u001b[39m,\n",
       "    xClientID: \u001b[90mundefined\u001b[39m\n",
       "  }\n",
       "}"
      ]
     },
     "execution_count": 4,
     "metadata": {},
     "output_type": "execute_result"
    }
   ],
   "source": [
    "await client.getModels()"
   ]
  }
 ],
 "metadata": {
  "kernelspec": {
   "display_name": "Deno",
   "language": "typescript",
   "name": "deno"
  },
  "language_info": {
   "codemirror_mode": "typescript",
   "file_extension": ".ts",
   "mimetype": "text/x.typescript",
   "name": "typescript",
   "nbconvert_exporter": "script",
   "pygments_lexer": "typescript",
   "version": "5.6.2"
  }
 },
 "nbformat": 4,
 "nbformat_minor": 2
}
