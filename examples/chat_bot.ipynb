{
 "cells": [
  {
   "cell_type": "markdown",
   "metadata": {},
   "source": [
    "# Чат-бот\n",
    "Source: [chat_bot.ts](source/chat_bot.ts)"
   ]
  },
  {
   "cell_type": "code",
   "execution_count": null,
   "metadata": {},
   "outputs": [],
   "source": [
    "import GigaChat from 'gigachat';\n",
    "import * as dotenv from 'dotenv';\n",
    "import { Agent } from 'node:https';\n",
    "\n",
    "dotenv.config();\n",
    "\n",
    "const httpsAgent = new Agent({\n",
    "  rejectUnauthorized: false,\n",
    "});\n",
    "\n",
    "const client = new GigaChat({\n",
    "  timeout: 600,\n",
    "  model: 'GigaChat',\n",
    "  httpsAgent: httpsAgent,\n",
    "});"
   ]
  },
  {
   "cell_type": "code",
   "execution_count": 3,
   "metadata": {},
   "outputs": [
    {
     "name": "stdout",
     "output_type": "stream",
     "text": [
      "Q: Привет\n",
      "UPDATE TOKEN\n",
      "Привет! Как настроение? 😊\n",
      "Q: Все хорошо\n",
      "Рад слышать это! Есть что-то конкретное, чем я могу тебе помочь?\n",
      "Q: Меня зовут \"Имя\"\n",
      "Приятно познакомиться! Как могу обращаться к тебе?\n",
      "Q: Обращайся ко мне как \"Имя\"\n",
      "Конечно, \"Имя\". Буду рад любому общению с тобой!\n",
      "Q: Как меня зовут?\n",
      "Твое имя знает только тот, кто тебя создал. Можешь сам рассказать, если хочешь 😊\n",
      "Q: Скажи по буквам\n",
      "Конечно!\n",
      "\n",
      "---\n",
      "\n",
      "Имя – **И**, **Н**, **А**, **М**, **Е**.\n"
     ]
    },
    {
     "data": {
      "text/plain": [
       "\u001b[32m\"\"\u001b[39m"
      ]
     },
     "execution_count": 3,
     "metadata": {},
     "output_type": "execute_result"
    }
   ],
   "source": [
    "import { Message } from 'gigachat/interfaces';\n",
    "\n",
    "const messages: Message[] = [];\n",
    "let question = prompt('Q: ');\n",
    "while (question) {\n",
    "    console.log(`Q: ${question}`)\n",
    "    messages.push({\n",
    "        role: 'user',\n",
    "        content: question,\n",
    "    });\n",
    "    let responseContent = '';\n",
    "    const response = await client.chat({\n",
    "        messages,\n",
    "    });\n",
    "    console.log(response.choices[0]?.message.content)\n",
    "    messages.push({\n",
    "        role: 'assistant',\n",
    "        content: responseContent,\n",
    "    });\n",
    "    question = prompt('Q: ');\n",
    "}"
   ]
  }
 ],
 "metadata": {
  "kernelspec": {
   "display_name": "Deno",
   "language": "typescript",
   "name": "deno"
  },
  "language_info": {
   "codemirror_mode": "typescript",
   "file_extension": ".ts",
   "mimetype": "text/x.typescript",
   "name": "typescript",
   "nbconvert_exporter": "script",
   "pygments_lexer": "typescript",
   "version": "5.6.2"
  }
 },
 "nbformat": 4,
 "nbformat_minor": 2
}
