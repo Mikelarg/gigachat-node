{
 "cells": [
  {
   "cell_type": "markdown",
   "metadata": {},
   "source": [
    "# Чат-бот\n",
    "Source: [chat_bot.ts](source/chat_bot.ts)"
   ]
  },
  {
   "cell_type": "code",
   "execution_count": null,
   "metadata": {},
   "outputs": [],
   "source": [
    "import * as readline from 'node:readline';\n",
    "import GigaChat from 'gigachat';\n",
    "import * as dotenv from 'dotenv';\n",
    "import { Message } from 'gigachat/interfaces';\n",
    "import { Agent } from 'node:https';\n",
    "\n",
    "dotenv.config();\n",
    "\n",
    "const httpsAgent = new Agent({\n",
    "  rejectUnauthorized: false,\n",
    "});\n",
    "\n",
    "const client = new GigaChat({\n",
    "  timeout: 600,\n",
    "  model: 'GigaChat',\n",
    "  httpsAgent: httpsAgent,\n",
    "});"
   ]
  },
  {
   "cell_type": "code",
   "execution_count": 5,
   "metadata": {},
   "outputs": [
    {
     "ename": "Error",
     "evalue": "EOPNOTSUPP: Operation not supported on socket",
     "output_type": "error",
     "traceback": [
      "Stack trace:",
      "Error: EOPNOTSUPP: Operation not supported on socket",
      "    at Stdin.setRaw (ext:deno_io/12_io.js:154:5)",
      "    at Duplex.stdin.setRawMode (ext:deno_node/_process/streams.mjs:232:23)",
      "    at Interface.[_setRawMode] [as _setRawMode] (ext:deno_node/internal/readline/interface.mjs:374:18)",
      "    at InterfaceConstructor (ext:deno_node/internal/readline/interface.mjs:309:22)",
      "    at new Interface (ext:deno_node/_readline.mjs:99:4)",
      "    at Module.createInterface (ext:deno_node/_readline.mjs:201:10)",
      "    at <anonymous>:1:42"
     ]
    }
   ],
   "source": [
    "const rl = readline.createInterface({\n",
    "    input: process.stdin,\n",
    "    output: process.stdout,\n",
    "    terminal: true,\n",
    "});"
   ]
  }
 ],
 "metadata": {
  "kernelspec": {
   "display_name": "Deno",
   "language": "typescript",
   "name": "deno"
  },
  "language_info": {
   "codemirror_mode": "typescript",
   "file_extension": ".ts",
   "mimetype": "text/x.typescript",
   "name": "typescript",
   "nbconvert_exporter": "script",
   "pygments_lexer": "typescript",
   "version": "5.6.2"
  }
 },
 "nbformat": 4,
 "nbformat_minor": 2
}
