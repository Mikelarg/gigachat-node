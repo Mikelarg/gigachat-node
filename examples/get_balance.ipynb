{
 "cells": [
  {
   "cell_type": "markdown",
   "metadata": {},
   "source": [
    "# Получение текущего баланса токенов на аккаунте\n",
    "Source: [get_balance.ts](source/get_balance.ts)"
   ]
  },
  {
   "cell_type": "code",
   "execution_count": null,
   "metadata": {},
   "outputs": [],
   "source": [
    "import GigaChat from 'gigachat';\n",
    "import * as dotenv from 'dotenv';\n",
    "import { Agent } from 'node:https';\n",
    "\n",
    "const httpsAgent = new Agent({\n",
    "    rejectUnauthorized: false,\n",
    "});\n",
    "\n",
    "dotenv.config();\n",
    "\n",
    "const client = new GigaChat({\n",
    "    timeout: 600,\n",
    "    model: 'GigaChat',\n",
    "    httpsAgent: httpsAgent,\n",
    "});"
   ]
  },
  {
   "cell_type": "code",
   "execution_count": 3,
   "metadata": {},
   "outputs": [
    {
     "data": {
      "text/plain": [
       "{\n",
       "  balance: [\n",
       "    { usage: \u001b[32m\"embeddings\"\u001b[39m, value: \u001b[33m9998375\u001b[39m },\n",
       "    { usage: \u001b[32m\"GigaChat-Pro\"\u001b[39m, value: \u001b[33m983586\u001b[39m },\n",
       "    { usage: \u001b[32m\"GigaChat-Max\"\u001b[39m, value: \u001b[33m30949\u001b[39m },\n",
       "    { usage: \u001b[32m\"GigaChat\"\u001b[39m, value: \u001b[33m875673\u001b[39m }\n",
       "  ],\n",
       "  xHeaders: {\n",
       "    xRequestID: \u001b[32m\"3eedf51e-b37a-479a-9d66-4d8457808b11\"\u001b[39m,\n",
       "    xSessionID: \u001b[32m\"6aefa45b-127b-42cc-9de9-6306412ecbe7\"\u001b[39m,\n",
       "    xClientID: \u001b[90mundefined\u001b[39m\n",
       "  }\n",
       "}"
      ]
     },
     "execution_count": 3,
     "metadata": {},
     "output_type": "execute_result"
    }
   ],
   "source": [
    "console.log(await client.balance());"
   ]
  }
 ],
 "metadata": {
  "kernelspec": {
   "display_name": "Deno",
   "language": "typescript",
   "name": "deno"
  },
  "language_info": {
   "codemirror_mode": "typescript",
   "file_extension": ".ts",
   "mimetype": "text/x.typescript",
   "name": "typescript",
   "nbconvert_exporter": "script",
   "pygments_lexer": "typescript",
   "version": "5.6.2"
  }
 },
 "nbformat": 4,
 "nbformat_minor": 2
}
