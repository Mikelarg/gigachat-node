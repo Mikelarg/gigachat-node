{
 "cells": [
  {
   "cell_type": "markdown",
   "metadata": {},
   "source": [
    "# Подсчет токенов из текста\n",
    "Source: [tokens_count.ts](source/tokens_count.ts)"
   ]
  },
  {
   "cell_type": "code",
   "execution_count": null,
   "metadata": {},
   "outputs": [],
   "source": [
    "import GigaChat from 'gigachat';\n",
    "import * as dotenv from 'dotenv';\n",
    "import { Agent } from 'node:https';\n",
    "\n",
    "const httpsAgent = new Agent({\n",
    "    rejectUnauthorized: false,\n",
    "});\n",
    "\n",
    "dotenv.config();\n",
    "\n",
    "const client = new GigaChat({\n",
    "    timeout: 600,\n",
    "    model: 'GigaChat',\n",
    "    httpsAgent: httpsAgent,\n",
    "});"
   ]
  },
  {
   "cell_type": "code",
   "execution_count": 2,
   "metadata": {},
   "outputs": [
    {
     "name": "stdout",
     "output_type": "stream",
     "text": [
      "UPDATE TOKEN\n"
     ]
    },
    {
     "data": {
      "text/plain": [
       "{\n",
       "  tokens: [\n",
       "    { object: \u001b[32m\"tokens\"\u001b[39m, tokens: \u001b[33m6\u001b[39m, characters: \u001b[33m17\u001b[39m },\n",
       "    { object: \u001b[32m\"tokens\"\u001b[39m, tokens: \u001b[33m5\u001b[39m, characters: \u001b[33m18\u001b[39m }\n",
       "  ],\n",
       "  xHeaders: {\n",
       "    xRequestID: \u001b[32m\"5d06a5ff-9d2d-4f20-a579-2ab9ff024529\"\u001b[39m,\n",
       "    xSessionID: \u001b[32m\"33eb7829-d991-4d4c-b423-8e4dc52f00c6\"\u001b[39m,\n",
       "    xClientID: \u001b[90mundefined\u001b[39m\n",
       "  }\n",
       "}"
      ]
     },
     "execution_count": 2,
     "metadata": {},
     "output_type": "execute_result"
    }
   ],
   "source": [
    "const resp = await client.tokensCount(['Привет, как дела?', 'Как дела, как дела']);\n",
    "resp"
   ]
  }
 ],
 "metadata": {
  "kernelspec": {
   "display_name": "Deno",
   "language": "typescript",
   "name": "deno"
  },
  "language_info": {
   "codemirror_mode": "typescript",
   "file_extension": ".ts",
   "mimetype": "text/x.typescript",
   "name": "typescript",
   "nbconvert_exporter": "script",
   "pygments_lexer": "typescript",
   "version": "5.6.2"
  }
 },
 "nbformat": 4,
 "nbformat_minor": 2
}
