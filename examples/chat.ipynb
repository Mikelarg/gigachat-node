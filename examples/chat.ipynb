{
 "cells": [
  {
   "cell_type": "markdown",
   "metadata": {},
   "source": [
    "# Получение сообщений\n",
    "Source: [chat.ts](source/chat.ts)"
   ]
  },
  {
   "cell_type": "code",
   "execution_count": null,
   "metadata": {},
   "outputs": [],
   "source": [
    "import GigaChat from 'gigachat';\n",
    "import * as dotenv from 'dotenv';\n",
    "import { Agent } from 'node:https';\n",
    "\n",
    "const httpsAgent = new Agent({\n",
    "    rejectUnauthorized: false,\n",
    "});\n",
    "\n",
    "dotenv.config();\n",
    "\n",
    "const client = new GigaChat({\n",
    "    timeout: 600,\n",
    "    model: 'GigaChat',\n",
    "    httpsAgent: httpsAgent,\n",
    "});"
   ]
  },
  {
   "cell_type": "code",
   "execution_count": 2,
   "metadata": {},
   "outputs": [
    {
     "name": "stdout",
     "output_type": "stream",
     "text": [
      "UPDATE TOKEN\n"
     ]
    }
   ],
   "source": [
    "const resp = await client.chat({\n",
    "    messages: [{ role: 'user', content: 'Привет, как дела?' }],\n",
    "});"
   ]
  },
  {
   "cell_type": "code",
   "execution_count": 3,
   "metadata": {},
   "outputs": [
    {
     "name": "stdout",
     "output_type": "stream",
     "text": [
      "Привет! Я всегда в порядке и готов общаться. А у тебя как дела?\n"
     ]
    }
   ],
   "source": [
    "console.log(resp.choices[0]?.message.content);"
   ]
  }
 ],
 "metadata": {
  "kernelspec": {
   "display_name": "Deno",
   "language": "typescript",
   "name": "deno"
  },
  "language_info": {
   "codemirror_mode": "typescript",
   "file_extension": ".ts",
   "mimetype": "text/x.typescript",
   "name": "typescript",
   "nbconvert_exporter": "script",
   "pygments_lexer": "typescript",
   "version": "5.6.2"
  }
 },
 "nbformat": 4,
 "nbformat_minor": 2
}
