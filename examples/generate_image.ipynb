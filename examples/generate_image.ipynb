{
 "cells": [
  {
   "cell_type": "code",
   "execution_count": null,
   "metadata": {},
   "outputs": [],
   "source": [
    "import 'dotenv';\n",
    "import { GigaChat, detectImage } from 'gigachat';\n",
    "import * as dotenv from 'dotenv';\n",
    "import { Agent } from 'node:https';\n",
    "import * as fs from 'node:fs';\n",
    "import path from 'node:path';\n",
    "\n",
    "const httpsAgent = new Agent({\n",
    "  rejectUnauthorized: false,\n",
    "});\n",
    "\n",
    "dotenv.config();\n",
    "const client = new GigaChat({\n",
    "    timeout: 600,\n",
    "    model: 'GigaChat',\n",
    "    httpsAgent: httpsAgent,\n",
    "});"
   ]
  },
  {
   "cell_type": "code",
   "execution_count": 2,
   "metadata": {},
   "outputs": [
    {
     "name": "stdout",
     "output_type": "stream",
     "text": [
      "UPDATE TOKEN\n"
     ]
    }
   ],
   "source": [
    "const resp = await client.chat({\n",
    "    messages: [\n",
    "      {\n",
    "        role: 'user',\n",
    "        content: 'Сгенерируй изображение котика',\n",
    "      },\n",
    "    ],\n",
    "    function_call: 'auto',\n",
    "});"
   ]
  },
  {
   "cell_type": "code",
   "execution_count": 3,
   "metadata": {},
   "outputs": [
    {
     "name": "stdout",
     "output_type": "stream",
     "text": [
      "Сообщение к изображению: \" вот изображение котика.\"\n"
     ]
    }
   ],
   "source": [
    "const detectedImage = detectImage(resp.choices[0]?.message.content ?? '');\n",
    "if (detectedImage && detectedImage.uuid) {\n",
    "    const image = await client.getImage(detectedImage.uuid);\n",
    "    console.log(`Сообщение к изображению: \"${detectedImage.postfix}\"`);\n",
    "} else {\n",
    "    console.log(resp.choices[0]?.message.content);\n",
    "    console.log('Изображение не сгенерировалось');\n",
    "}"
   ]
  },
  {
   "cell_type": "code",
   "execution_count": 5,
   "metadata": {},
   "outputs": [
    {
     "ename": "ReferenceError",
     "evalue": "image is not defined",
     "output_type": "error",
     "traceback": [
      "Stack trace:",
      "ReferenceError: image is not defined",
      "    at <anonymous>:1:41"
     ]
    }
   ],
   "source": [
    "Deno.jupyter.image(image.content);"
   ]
  }
 ],
 "metadata": {
  "kernelspec": {
   "display_name": "Deno",
   "language": "typescript",
   "name": "deno"
  },
  "language_info": {
   "codemirror_mode": "typescript",
   "file_extension": ".ts",
   "mimetype": "text/x.typescript",
   "name": "typescript",
   "nbconvert_exporter": "script",
   "pygments_lexer": "typescript",
   "version": "5.6.2"
  }
 },
 "nbformat": 4,
 "nbformat_minor": 2
}
